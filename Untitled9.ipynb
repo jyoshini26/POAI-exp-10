{
  "nbformat": 4,
  "nbformat_minor": 0,
  "metadata": {
    "colab": {
      "provenance": [],
      "authorship_tag": "ABX9TyPlZg8ti7AbP6Ct2HKDesFu",
      "include_colab_link": true
    },
    "kernelspec": {
      "name": "python3",
      "display_name": "Python 3"
    },
    "language_info": {
      "name": "python"
    }
  },
  "cells": [
    {
      "cell_type": "markdown",
      "metadata": {
        "id": "view-in-github",
        "colab_type": "text"
      },
      "source": [
        "<a href=\"https://colab.research.google.com/github/jyoshini26/POAI-exp-10/blob/main/Untitled9.ipynb\" target=\"_parent\"><img src=\"https://colab.research.google.com/assets/colab-badge.svg\" alt=\"Open In Colab\"/></a>"
      ]
    },
    {
      "cell_type": "code",
      "execution_count": 3,
      "metadata": {
        "id": "8A8vT9iNuFIC",
        "outputId": "d1fc0cdb-fdaa-4000-bfb0-69d15c68cf68",
        "colab": {
          "base_uri": "https://localhost:8080/"
        }
      },
      "outputs": [
        {
          "output_type": "stream",
          "name": "stdout",
          "text": [
            "Fuzzy risk score (0–100): 80.00\n"
          ]
        }
      ],
      "source": [
        "# Define fuzzy membership functions\n",
        "def low(x):\n",
        "    return max(0, min(1, (30 - x) / 10))\n",
        "\n",
        "def medium(x):\n",
        "    return max(0, min((x - 20) / 10, (40 - x) / 10))\n",
        "\n",
        "def high(x):\n",
        "    return max(0, min(1, (x - 30) / 10))\n",
        "\n",
        "# Fuzzy rules\n",
        "# Rule 1: IF temperature is high OR humidity is high THEN risk is high\n",
        "# Rule 2: IF temperature is medium AND humidity is medium THEN risk is medium\n",
        "# Rule 3: IF temperature is low AND humidity is low THEN risk is low\n",
        "\n",
        "def fuzzy_inference(temp, hum):\n",
        "    # Fuzzify inputs\n",
        "    temp_low = low(temp)\n",
        "    temp_medium = medium(temp)\n",
        "    temp_high = high(temp)\n",
        "\n",
        "    hum_low = low(hum)\n",
        "    hum_medium = medium(hum)\n",
        "    hum_high = high(hum)\n",
        "\n",
        "    # Apply rules\n",
        "    rule1 = max(temp_high, hum_high)\n",
        "    rule2 = min(temp_medium, hum_medium)\n",
        "    rule3 = min(temp_low, hum_low)\n",
        "\n",
        "    # Defuzzify (weighted average)\n",
        "    numerator = (rule1 * 80 + rule2 * 50 + rule3 * 20)\n",
        "    denominator = rule1 + rule2 + rule3\n",
        "\n",
        "    if denominator == 0:\n",
        "        return 0\n",
        "    risk = numerator / denominator\n",
        "    return risk\n",
        "\n",
        "# Example input\n",
        "temperature = 35\n",
        "humidity = 45\n",
        "\n",
        "risk_score = fuzzy_inference(temperature, humidity)\n",
        "print(f\"Fuzzy risk score (0–100): {risk_score:.2f}\")\n"
      ]
    }
  ]
}